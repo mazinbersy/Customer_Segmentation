{
 "cells": [
  {
   "cell_type": "code",
   "id": "initial_id",
   "metadata": {
    "collapsed": true,
    "ExecuteTime": {
     "end_time": "2025-08-06T12:20:40.730953Z",
     "start_time": "2025-08-06T12:20:40.723858Z"
    }
   },
   "source": [
    "import pandas as pd\n",
    "from sklearn.cluster import KMeans\n",
    "import matplotlib.pyplot as plt\n",
    "from sklearn.preprocessing import StandardScaler"
   ],
   "outputs": [],
   "execution_count": 14
  },
  {
   "metadata": {
    "ExecuteTime": {
     "end_time": "2025-08-06T12:20:40.768378Z",
     "start_time": "2025-08-06T12:20:40.754170Z"
    }
   },
   "cell_type": "code",
   "source": [
    "data = pd.read_csv('Mall_Customers.csv')\n",
    "data.dropna(inplace=True)\n",
    "data.head()"
   ],
   "id": "86211cc5717604a8",
   "outputs": [
    {
     "data": {
      "text/plain": [
       "   CustomerID   Genre  Age  Income(k$)  Spending Score\n",
       "0           1    Male   19          15              39\n",
       "1           2    Male   21          15              81\n",
       "2           3  Female   20          16               6\n",
       "3           4  Female   23          16              77\n",
       "4           5  Female   31          17              40"
      ],
      "text/html": [
       "<div>\n",
       "<style scoped>\n",
       "    .dataframe tbody tr th:only-of-type {\n",
       "        vertical-align: middle;\n",
       "    }\n",
       "\n",
       "    .dataframe tbody tr th {\n",
       "        vertical-align: top;\n",
       "    }\n",
       "\n",
       "    .dataframe thead th {\n",
       "        text-align: right;\n",
       "    }\n",
       "</style>\n",
       "<table border=\"1\" class=\"dataframe\">\n",
       "  <thead>\n",
       "    <tr style=\"text-align: right;\">\n",
       "      <th></th>\n",
       "      <th>CustomerID</th>\n",
       "      <th>Genre</th>\n",
       "      <th>Age</th>\n",
       "      <th>Income(k$)</th>\n",
       "      <th>Spending Score</th>\n",
       "    </tr>\n",
       "  </thead>\n",
       "  <tbody>\n",
       "    <tr>\n",
       "      <th>0</th>\n",
       "      <td>1</td>\n",
       "      <td>Male</td>\n",
       "      <td>19</td>\n",
       "      <td>15</td>\n",
       "      <td>39</td>\n",
       "    </tr>\n",
       "    <tr>\n",
       "      <th>1</th>\n",
       "      <td>2</td>\n",
       "      <td>Male</td>\n",
       "      <td>21</td>\n",
       "      <td>15</td>\n",
       "      <td>81</td>\n",
       "    </tr>\n",
       "    <tr>\n",
       "      <th>2</th>\n",
       "      <td>3</td>\n",
       "      <td>Female</td>\n",
       "      <td>20</td>\n",
       "      <td>16</td>\n",
       "      <td>6</td>\n",
       "    </tr>\n",
       "    <tr>\n",
       "      <th>3</th>\n",
       "      <td>4</td>\n",
       "      <td>Female</td>\n",
       "      <td>23</td>\n",
       "      <td>16</td>\n",
       "      <td>77</td>\n",
       "    </tr>\n",
       "    <tr>\n",
       "      <th>4</th>\n",
       "      <td>5</td>\n",
       "      <td>Female</td>\n",
       "      <td>31</td>\n",
       "      <td>17</td>\n",
       "      <td>40</td>\n",
       "    </tr>\n",
       "  </tbody>\n",
       "</table>\n",
       "</div>"
      ]
     },
     "execution_count": 15,
     "metadata": {},
     "output_type": "execute_result"
    }
   ],
   "execution_count": 15
  },
  {
   "metadata": {
    "ExecuteTime": {
     "end_time": "2025-08-06T12:20:40.915998Z",
     "start_time": "2025-08-06T12:20:40.807726Z"
    }
   },
   "cell_type": "code",
   "source": "plt.scatter(data[\"Income(k$)\"], data[\"Spending Score\"])",
   "id": "9e37ba74dddf4772",
   "outputs": [
    {
     "data": {
      "text/plain": [
       "<matplotlib.collections.PathCollection at 0x2e7e76143b0>"
      ]
     },
     "execution_count": 16,
     "metadata": {},
     "output_type": "execute_result"
    },
    {
     "data": {
      "text/plain": [
       "<Figure size 640x480 with 1 Axes>"
      ],
      "image/png": "[encoded data removed]"
     },
     "metadata": {},
     "output_type": "display_data"
    }
   ],
   "execution_count": 16
  },
  {
   "metadata": {
    "ExecuteTime": {
     "end_time": "2025-08-06T12:20:40.983184Z",
     "start_time": "2025-08-06T12:20:40.965856Z"
    }
   },
   "cell_type": "code",
   "source": [
    "scaler = StandardScaler()\n",
    "data[\"Scaled Income\"] = scaler.fit_transform(data[[\"Income(k$)\"]])\n",
    "data[\"Scaled Spending Score\"] = scaler.fit_transform(data[[\"Spending Score\"]])\n",
    "data.head()"
   ],
   "id": "1bc52d2d8f09ee4e",
   "outputs": [
    {
     "data": {
      "text/plain": [
       "   CustomerID   Genre  Age  Income(k$)  Spending Score  Scaled Income  \\\n",
       "0           1    Male   19          15              39      -1.738999   \n",
       "1           2    Male   21          15              81      -1.738999   \n",
       "2           3  Female   20          16               6      -1.700830   \n",
       "3           4  Female   23          16              77      -1.700830   \n",
       "4           5  Female   31          17              40      -1.662660   \n",
       "\n",
       "   Scaled Spending Score  \n",
       "0              -0.434801  \n",
       "1               1.195704  \n",
       "2              -1.715913  \n",
       "3               1.040418  \n",
       "4              -0.395980  "
      ],
      "text/html": [
       "<div>\n",
       "<style scoped>\n",
       "    .dataframe tbody tr th:only-of-type {\n",
       "        vertical-align: middle;\n",
       "    }\n",
       "\n",
       "    .dataframe tbody tr th {\n",
       "        vertical-align: top;\n",
       "    }\n",
       "\n",
       "    .dataframe thead th {\n",
       "        text-align: right;\n",
       "    }\n",
       "</style>\n",
       "<table border=\"1\" class=\"dataframe\">\n",
       "  <thead>\n",
       "    <tr style=\"text-align: right;\">\n",
       "      <th></th>\n",
       "      <th>CustomerID</th>\n",
       "      <th>Genre</th>\n",
       "      <th>Age</th>\n",
       "      <th>Income(k$)</th>\n",
       "      <th>Spending Score</th>\n",
       "      <th>Scaled Income</th>\n",
       "      <th>Scaled Spending Score</th>\n",
       "    </tr>\n",
       "  </thead>\n",
       "  <tbody>\n",
       "    <tr>\n",
       "      <th>0</th>\n",
       "      <td>1</td>\n",
       "      <td>Male</td>\n",
       "      <td>19</td>\n",
       "      <td>15</td>\n",
       "      <td>39</td>\n",
       "      <td>-1.738999</td>\n",
       "      <td>-0.434801</td>\n",
       "    </tr>\n",
       "    <tr>\n",
       "      <th>1</th>\n",
       "      <td>2</td>\n",
       "      <td>Male</td>\n",
       "      <td>21</td>\n",
       "      <td>15</td>\n",
       "      <td>81</td>\n",
       "      <td>-1.738999</td>\n",
       "      <td>1.195704</td>\n",
       "    </tr>\n",
       "    <tr>\n",
       "      <th>2</th>\n",
       "      <td>3</td>\n",
       "      <td>Female</td>\n",
       "      <td>20</td>\n",
       "      <td>16</td>\n",
       "      <td>6</td>\n",
       "      <td>-1.700830</td>\n",
       "      <td>-1.715913</td>\n",
       "    </tr>\n",
       "    <tr>\n",
       "      <th>3</th>\n",
       "      <td>4</td>\n",
       "      <td>Female</td>\n",
       "      <td>23</td>\n",
       "      <td>16</td>\n",
       "      <td>77</td>\n",
       "      <td>-1.700830</td>\n",
       "      <td>1.040418</td>\n",
       "    </tr>\n",
       "    <tr>\n",
       "      <th>4</th>\n",
       "      <td>5</td>\n",
       "      <td>Female</td>\n",
       "      <td>31</td>\n",
       "      <td>17</td>\n",
       "      <td>40</td>\n",
       "      <td>-1.662660</td>\n",
       "      <td>-0.395980</td>\n",
       "    </tr>\n",
       "  </tbody>\n",
       "</table>\n",
       "</div>"
      ]
     },
     "execution_count": 17,
     "metadata": {},
     "output_type": "execute_result"
    }
   ],
   "execution_count": 17
  },
  {
   "metadata": {
    "ExecuteTime": {
     "end_time": "2025-08-06T12:20:41.122308Z",
     "start_time": "2025-08-06T12:20:41.044012Z"
    }
   },
   "cell_type": "code",
   "source": [
    "k = range(1,10)\n",
    "sse = []\n",
    "for i in range(1,10):\n",
    "    kmeans = KMeans(n_clusters=i, random_state=1)\n",
    "    kmeans.fit(data[[\"Scaled Income\", \"Scaled Spending Score\"]])\n",
    "    sse.append(kmeans.inertia_)"
   ],
   "id": "b38d3f18d79ba1af",
   "outputs": [],
   "execution_count": 18
  },
  {
   "metadata": {
    "ExecuteTime": {
     "end_time": "2025-08-06T12:20:41.271852Z",
     "start_time": "2025-08-06T12:20:41.167386Z"
    }
   },
   "cell_type": "code",
   "source": [
    "plt.plot(k, sse)\n",
    "plt.xlabel(\"Number of Clusters\")\n",
    "plt.ylabel(\"SSE\")\n",
    "plt.show()"
   ],
   "id": "761891b18fba01e9",
   "outputs": [
    {
     "data": {
      "text/plain": [
       "<Figure size 640x480 with 1 Axes>"
      ],
      "image/png": "[encoded data removed]"
     },
     "metadata": {},
     "output_type": "display_data"
    }
   ],
   "execution_count": 19
  },
  {
   "metadata": {
    "ExecuteTime": {
     "end_time": "2025-08-06T12:20:41.323621Z",
     "start_time": "2025-08-06T12:20:41.293958Z"
    }
   },
   "cell_type": "code",
   "source": [
    "k=5 #elbow method\n",
    "kmeans = KMeans(n_clusters=k, random_state=1)\n",
    "kmeans.fit(data[[\"Scaled Income\", \"Scaled Spending Score\"]])\n",
    "predicted = kmeans.predict(data[[\"Scaled Income\", \"Scaled Spending Score\"]])"
   ],
   "id": "c08ba1193448afee",
   "outputs": [],
   "execution_count": 20
  },
  {
   "metadata": {
    "ExecuteTime": {
     "end_time": "2025-08-06T12:20:41.348359Z",
     "start_time": "2025-08-06T12:20:41.335139Z"
    }
   },
   "cell_type": "code",
   "source": [
    "data[\"Kmeans_Cluster\"] = predicted\n",
    "data.head()"
   ],
   "id": "5da9dac49584a721",
   "outputs": [
    {
     "data": {
      "text/plain": [
       "   CustomerID   Genre  Age  Income(k$)  Spending Score  Scaled Income  \\\n",
       "0           1    Male   19          15              39      -1.738999   \n",
       "1           2    Male   21          15              81      -1.738999   \n",
       "2           3  Female   20          16               6      -1.700830   \n",
       "3           4  Female   23          16              77      -1.700830   \n",
       "4           5  Female   31          17              40      -1.662660   \n",
       "\n",
       "   Scaled Spending Score  Kmeans_Cluster  \n",
       "0              -0.434801               4  \n",
       "1               1.195704               2  \n",
       "2              -1.715913               4  \n",
       "3               1.040418               2  \n",
       "4              -0.395980               4  "
      ],
      "text/html": [
       "<div>\n",
       "<style scoped>\n",
       "    .dataframe tbody tr th:only-of-type {\n",
       "        vertical-align: middle;\n",
       "    }\n",
       "\n",
       "    .dataframe tbody tr th {\n",
       "        vertical-align: top;\n",
       "    }\n",
       "\n",
       "    .dataframe thead th {\n",
       "        text-align: right;\n",
       "    }\n",
       "</style>\n",
       "<table border=\"1\" class=\"dataframe\">\n",
       "  <thead>\n",
       "    <tr style=\"text-align: right;\">\n",
       "      <th></th>\n",
       "      <th>CustomerID</th>\n",
       "      <th>Genre</th>\n",
       "      <th>Age</th>\n",
       "      <th>Income(k$)</th>\n",
       "      <th>Spending Score</th>\n",
       "      <th>Scaled Income</th>\n",
       "      <th>Scaled Spending Score</th>\n",
       "      <th>Kmeans_Cluster</th>\n",
       "    </tr>\n",
       "  </thead>\n",
       "  <tbody>\n",
       "    <tr>\n",
       "      <th>0</th>\n",
       "      <td>1</td>\n",
       "      <td>Male</td>\n",
       "      <td>19</td>\n",
       "      <td>15</td>\n",
       "      <td>39</td>\n",
       "      <td>-1.738999</td>\n",
       "      <td>-0.434801</td>\n",
       "      <td>4</td>\n",
       "    </tr>\n",
       "    <tr>\n",
       "      <th>1</th>\n",
       "      <td>2</td>\n",
       "      <td>Male</td>\n",
       "      <td>21</td>\n",
       "      <td>15</td>\n",
       "      <td>81</td>\n",
       "      <td>-1.738999</td>\n",
       "      <td>1.195704</td>\n",
       "      <td>2</td>\n",
       "    </tr>\n",
       "    <tr>\n",
       "      <th>2</th>\n",
       "      <td>3</td>\n",
       "      <td>Female</td>\n",
       "      <td>20</td>\n",
       "      <td>16</td>\n",
       "      <td>6</td>\n",
       "      <td>-1.700830</td>\n",
       "      <td>-1.715913</td>\n",
       "      <td>4</td>\n",
       "    </tr>\n",
       "    <tr>\n",
       "      <th>3</th>\n",
       "      <td>4</td>\n",
       "      <td>Female</td>\n",
       "      <td>23</td>\n",
       "      <td>16</td>\n",
       "      <td>77</td>\n",
       "      <td>-1.700830</td>\n",
       "      <td>1.040418</td>\n",
       "      <td>2</td>\n",
       "    </tr>\n",
       "    <tr>\n",
       "      <th>4</th>\n",
       "      <td>5</td>\n",
       "      <td>Female</td>\n",
       "      <td>31</td>\n",
       "      <td>17</td>\n",
       "      <td>40</td>\n",
       "      <td>-1.662660</td>\n",
       "      <td>-0.395980</td>\n",
       "      <td>4</td>\n",
       "    </tr>\n",
       "  </tbody>\n",
       "</table>\n",
       "</div>"
      ]
     },
     "execution_count": 21,
     "metadata": {},
     "output_type": "execute_result"
    }
   ],
   "execution_count": 21
  },
  {
   "metadata": {
    "ExecuteTime": {
     "end_time": "2025-08-06T12:20:41.395952Z",
     "start_time": "2025-08-06T12:20:41.390522Z"
    }
   },
   "cell_type": "code",
   "source": "original_centers = scaler.inverse_transform(kmeans.cluster_centers_)",
   "id": "d03a0fad2368a382",
   "outputs": [],
   "execution_count": 22
  },
  {
   "metadata": {
    "ExecuteTime": {
     "end_time": "2025-08-06T12:20:41.650122Z",
     "start_time": "2025-08-06T12:20:41.447850Z"
    }
   },
   "cell_type": "code",
   "source": [
    "plt.scatter(data[data.Kmeans_Cluster == 0][\"Income(k$)\"], \n",
    "            data[data.Kmeans_Cluster == 0][\"Spending Score\"], \n",
    "            color=\"green\", label=\"Cluster 0\")\n",
    "plt.scatter(data[data.Kmeans_Cluster == 1][\"Income(k$)\"], \n",
    "            data[data.Kmeans_Cluster == 1][\"Spending Score\"], \n",
    "            color=\"blue\", label=\"Cluster 1\")\n",
    "plt.scatter(data[data.Kmeans_Cluster == 2][\"Income(k$)\"], \n",
    "            data[data.Kmeans_Cluster == 2][\"Spending Score\"], \n",
    "            color=\"red\", label=\"Cluster 2\")\n",
    "plt.scatter(data[data.Kmeans_Cluster == 3][\"Income(k$)\"], \n",
    "            data[data.Kmeans_Cluster == 3][\"Spending Score\"], \n",
    "            color=\"yellow\", label=\"Cluster 3\")\n",
    "plt.scatter(data[data.Kmeans_Cluster == 4][\"Income(k$)\"], \n",
    "            data[data.Kmeans_Cluster == 4][\"Spending Score\"], \n",
    "            color=\"purple\", label=\"Cluster 4\")\n",
    "\n",
    "plt.scatter(original_centers[:,0], original_centers[:,1], color=\"black\", marker = \"*\", label=\"Centroids\")\n",
    "plt.xlabel(\"Income(k$)\")\n",
    "plt.ylabel(\"Spending Score\")\n",
    "plt.legend()\n",
    "plt.title(\"Customer Segmentation using K-Means\")\n",
    "plt.show()\n",
    "\n"
   ],
   "id": "b95f374f258c5fb8",
   "outputs": [
    {
     "data": {
      "text/plain": [
       "<Figure size 640x480 with 1 Axes>"
      ],
      "image/png": "[encoded data removed]"
     },
     "metadata": {},
     "output_type": "display_data"
    }
   ],
   "execution_count": 23
  },
  {
   "metadata": {
    "ExecuteTime": {
     "end_time": "2025-08-06T12:20:41.669411Z",
     "start_time": "2025-08-06T12:20:41.655577Z"
    }
   },
   "cell_type": "code",
   "source": [
    "from sklearn.cluster import DBSCAN\n",
    "from sklearn.metrics import silhouette_score as ss\n",
    "import numpy as np\n",
    "import itertools"
   ],
   "id": "988fad7433b5a2f",
   "outputs": [],
   "execution_count": 24
  },
  {
   "metadata": {
    "ExecuteTime": {
     "end_time": "2025-08-06T12:20:41.693758Z",
     "start_time": "2025-08-06T12:20:41.684021Z"
    }
   },
   "cell_type": "code",
   "source": [
    "#Optimizing DBSCAN Based on Silhouette Score\n",
    "def get_scores_and_labels(combinations, data):\n",
    "    scores = []\n",
    "    all_labels = []\n",
    "    for i, (eps,num_samples) in enumerate(combinations):\n",
    "        model = DBSCAN(eps=eps, min_samples=num_samples).fit(data)\n",
    "        labels = model.labels_\n",
    "        labels_set = set(labels)\n",
    "        num_clusters = len(labels_set)\n",
    "        \n",
    "        if -1 in labels_set:\n",
    "            num_clusters -= 1\n",
    "        \n",
    "        if num_clusters < 2 or num_clusters > 50:\n",
    "            scores.append(-1)\n",
    "            all_labels.append(-1)\n",
    "            print(f\"Combination {int(eps), int(num_samples)} on iteration {i+1} has {num_clusters} clusters, Skipping\")\n",
    "            continue\n",
    "        \n",
    "        scores.append(ss(data, labels))\n",
    "        all_labels.append(labels)\n",
    "        print(f\"Index: {i}, Score: {scores[-1]}, Number of clusters: {num_clusters}\")\n",
    "        \n",
    "        best_index = np.argmax(scores)\n",
    "        best_parameters = combinations[best_index]\n",
    "        best_score = scores[best_index]\n",
    "        best_label = all_labels[best_index]\n",
    "        \n",
    "    return {'best_eps' : float(best_parameters[0]), \n",
    "            'best_min_samples': int(best_parameters[1]),\n",
    "            'best_score' : best_score, \n",
    "            'best_label' : best_label}\n",
    "            "
   ],
   "id": "c7604c5b815700cf",
   "outputs": [],
   "execution_count": 25
  },
  {
   "metadata": {
    "ExecuteTime": {
     "end_time": "2025-08-06T12:20:41.746656Z",
     "start_time": "2025-08-06T12:20:41.739498Z"
    }
   },
   "cell_type": "code",
   "source": [
    "#Testing Values for DBSCAN Optimization\n",
    "epsilons = np.linspace(0.01, 1, 10)\n",
    "min_samples = np.arange(1,20)\n",
    "combinations = list(itertools.product(epsilons, min_samples))"
   ],
   "id": "5ea75b5e8905b7b9",
   "outputs": [],
   "execution_count": 26
  },
  {
   "metadata": {
    "ExecuteTime": {
     "end_time": "2025-08-06T12:20:42.282807Z",
     "start_time": "2025-08-06T12:20:41.757744Z"
    }
   },
   "cell_type": "code",
   "source": [
    "best_dict= get_scores_and_labels(combinations, data[[\"Scaled Income\", \"Scaled Spending Score\"]])\n",
    "data[\"DBSCAN_Cluster\"] = best_dict[\"best_label\"]"
   ],
   "id": "74511041ad10403f",
   "outputs": [
    {
     "name": "stdout",
     "output_type": "stream",
     "text": [
      "Combination (0, 1) on iteration 1 has 196 clusters, Skipping\n",
      "Index: 1, Score: -0.5039775112770212, Number of clusters: 4\n",
      "Combination (0, 3) on iteration 3 has 0 clusters, Skipping\n",
      "Combination (0, 4) on iteration 4 has 0 clusters, Skipping\n",
      "Combination (0, 5) on iteration 5 has 0 clusters, Skipping\n",
      "Combination (0, 6) on iteration 6 has 0 clusters, Skipping\n",
      "Combination (0, 7) on iteration 7 has 0 clusters, Skipping\n",
      "Combination (0, 8) on iteration 8 has 0 clusters, Skipping\n",
      "Combination (0, 9) on iteration 9 has 0 clusters, Skipping\n",
      "Combination (0, 10) on iteration 10 has 0 clusters, Skipping\n",
      "Combination (0, 11) on iteration 11 has 0 clusters, Skipping\n",
      "Combination (0, 12) on iteration 12 has 0 clusters, Skipping\n",
      "Combination (0, 13) on iteration 13 has 0 clusters, Skipping\n",
      "Combination (0, 14) on iteration 14 has 0 clusters, Skipping\n",
      "Combination (0, 15) on iteration 15 has 0 clusters, Skipping\n",
      "Combination (0, 16) on iteration 16 has 0 clusters, Skipping\n",
      "Combination (0, 17) on iteration 17 has 0 clusters, Skipping\n",
      "Combination (0, 18) on iteration 18 has 0 clusters, Skipping\n",
      "Combination (0, 19) on iteration 19 has 0 clusters, Skipping\n",
      "Combination (0, 1) on iteration 20 has 92 clusters, Skipping\n",
      "Index: 20, Score: 0.0672821281879916, Number of clusters: 31\n",
      "Index: 21, Score: -0.13850462516483114, Number of clusters: 11\n",
      "Index: 22, Score: -0.19205527883149437, Number of clusters: 9\n",
      "Index: 23, Score: -0.25622414244599506, Number of clusters: 5\n",
      "Index: 24, Score: -0.23351641641178275, Number of clusters: 3\n",
      "Index: 25, Score: -0.28812319476743037, Number of clusters: 3\n",
      "Index: 26, Score: -0.2741288194279796, Number of clusters: 2\n",
      "Combination (0, 9) on iteration 28 has 1 clusters, Skipping\n",
      "Combination (0, 10) on iteration 29 has 1 clusters, Skipping\n",
      "Combination (0, 11) on iteration 30 has 0 clusters, Skipping\n",
      "Combination (0, 12) on iteration 31 has 0 clusters, Skipping\n",
      "Combination (0, 13) on iteration 32 has 0 clusters, Skipping\n",
      "Combination (0, 14) on iteration 33 has 0 clusters, Skipping\n",
      "Combination (0, 15) on iteration 34 has 0 clusters, Skipping\n",
      "Combination (0, 16) on iteration 35 has 0 clusters, Skipping\n",
      "Combination (0, 17) on iteration 36 has 0 clusters, Skipping\n",
      "Combination (0, 18) on iteration 37 has 0 clusters, Skipping\n",
      "Combination (0, 19) on iteration 38 has 0 clusters, Skipping\n",
      "Index: 38, Score: 0.2595084767890941, Number of clusters: 38\n",
      "Index: 39, Score: 0.2606050985199497, Number of clusters: 22\n",
      "Index: 40, Score: 0.2633230440453314, Number of clusters: 14\n",
      "Index: 41, Score: 0.15058571210228566, Number of clusters: 8\n",
      "Index: 42, Score: 0.17380046208095543, Number of clusters: 7\n",
      "Index: 43, Score: 0.1542053888950085, Number of clusters: 6\n",
      "Index: 44, Score: 0.13462021487705114, Number of clusters: 4\n",
      "Index: 45, Score: 0.09597279551925679, Number of clusters: 4\n",
      "Index: 46, Score: 0.05724356818797502, Number of clusters: 2\n",
      "Combination (0, 10) on iteration 48 has 1 clusters, Skipping\n",
      "Combination (0, 11) on iteration 49 has 1 clusters, Skipping\n",
      "Combination (0, 12) on iteration 50 has 1 clusters, Skipping\n",
      "Combination (0, 13) on iteration 51 has 1 clusters, Skipping\n",
      "Combination (0, 14) on iteration 52 has 1 clusters, Skipping\n",
      "Index: 52, Score: -0.06892240094138041, Number of clusters: 2\n",
      "Index: 53, Score: -0.10256061455175132, Number of clusters: 2\n",
      "Combination (0, 17) on iteration 55 has 1 clusters, Skipping\n",
      "Combination (0, 18) on iteration 56 has 1 clusters, Skipping\n",
      "Combination (0, 19) on iteration 57 has 1 clusters, Skipping\n",
      "Index: 57, Score: 0.3900531476100902, Number of clusters: 17\n",
      "Index: 58, Score: 0.407047923476738, Number of clusters: 10\n",
      "Index: 59, Score: 0.4710956057910501, Number of clusters: 7\n",
      "Index: 60, Score: 0.41989808828354497, Number of clusters: 7\n",
      "Index: 61, Score: 0.4328513388873844, Number of clusters: 6\n",
      "Index: 62, Score: 0.3415395551133157, Number of clusters: 7\n",
      "Index: 63, Score: 0.3011229366557288, Number of clusters: 4\n",
      "Index: 64, Score: 0.23924370417925417, Number of clusters: 5\n",
      "Index: 65, Score: 0.19220200374096494, Number of clusters: 6\n",
      "Index: 66, Score: 0.1641285988396095, Number of clusters: 4\n",
      "Index: 67, Score: 0.09653123620729956, Number of clusters: 3\n",
      "Index: 68, Score: 0.10058033036222716, Number of clusters: 2\n",
      "Combination (0, 13) on iteration 70 has 1 clusters, Skipping\n",
      "Combination (0, 14) on iteration 71 has 1 clusters, Skipping\n",
      "Combination (0, 15) on iteration 72 has 1 clusters, Skipping\n",
      "Combination (0, 16) on iteration 73 has 1 clusters, Skipping\n",
      "Combination (0, 17) on iteration 74 has 1 clusters, Skipping\n",
      "Combination (0, 18) on iteration 75 has 1 clusters, Skipping\n",
      "Combination (0, 19) on iteration 76 has 1 clusters, Skipping\n",
      "Index: 76, Score: 0.23572222459501954, Number of clusters: 8\n",
      "Index: 77, Score: 0.23224786698518307, Number of clusters: 5\n",
      "Index: 78, Score: 0.3454634942273178, Number of clusters: 2\n",
      "Index: 79, Score: 0.3454634942273178, Number of clusters: 2\n",
      "Index: 80, Score: 0.3201814090098962, Number of clusters: 3\n",
      "Index: 81, Score: 0.3105826078524903, Number of clusters: 3\n",
      "Index: 82, Score: 0.3174052354387719, Number of clusters: 3\n",
      "Index: 83, Score: 0.31562264755103014, Number of clusters: 3\n",
      "Index: 84, Score: 0.4244750059568512, Number of clusters: 5\n",
      "Index: 85, Score: 0.4102038652083455, Number of clusters: 5\n",
      "Index: 86, Score: 0.3773890208691004, Number of clusters: 4\n",
      "Index: 87, Score: 0.3440767031862294, Number of clusters: 4\n",
      "Index: 88, Score: 0.31994975957771254, Number of clusters: 3\n",
      "Index: 89, Score: 0.29067539375559187, Number of clusters: 3\n",
      "Index: 90, Score: 0.2845255117106877, Number of clusters: 3\n",
      "Index: 91, Score: 0.23907679039093171, Number of clusters: 3\n",
      "Index: 92, Score: 0.23260576149629528, Number of clusters: 3\n",
      "Index: 93, Score: 0.21686056219031735, Number of clusters: 3\n",
      "Combination (0, 19) on iteration 95 has 1 clusters, Skipping\n",
      "Index: 95, Score: 0.43387620121792864, Number of clusters: 2\n",
      "Combination (0, 2) on iteration 97 has 1 clusters, Skipping\n",
      "Combination (0, 3) on iteration 98 has 1 clusters, Skipping\n",
      "Combination (0, 4) on iteration 99 has 1 clusters, Skipping\n",
      "Combination (0, 5) on iteration 100 has 1 clusters, Skipping\n",
      "Combination (0, 6) on iteration 101 has 1 clusters, Skipping\n",
      "Combination (0, 7) on iteration 102 has 1 clusters, Skipping\n",
      "Combination (0, 8) on iteration 103 has 1 clusters, Skipping\n",
      "Combination (0, 9) on iteration 104 has 1 clusters, Skipping\n",
      "Index: 104, Score: 0.271841826219382, Number of clusters: 2\n",
      "Index: 105, Score: 0.2722836081782452, Number of clusters: 2\n",
      "Index: 106, Score: 0.27303990785682897, Number of clusters: 2\n",
      "Combination (0, 13) on iteration 108 has 1 clusters, Skipping\n",
      "Combination (0, 14) on iteration 109 has 1 clusters, Skipping\n",
      "Index: 109, Score: 0.2966715184494497, Number of clusters: 2\n",
      "Index: 110, Score: 0.2889282023201039, Number of clusters: 2\n",
      "Index: 111, Score: 0.25913135975593593, Number of clusters: 2\n",
      "Index: 112, Score: 0.2859825629944019, Number of clusters: 3\n",
      "Index: 113, Score: 0.2931059075129341, Number of clusters: 3\n",
      "Combination (0, 1) on iteration 115 has 1 clusters, Skipping\n",
      "Combination (0, 2) on iteration 116 has 1 clusters, Skipping\n",
      "Combination (0, 3) on iteration 117 has 1 clusters, Skipping\n",
      "Combination (0, 4) on iteration 118 has 1 clusters, Skipping\n",
      "Combination (0, 5) on iteration 119 has 1 clusters, Skipping\n",
      "Combination (0, 6) on iteration 120 has 1 clusters, Skipping\n",
      "Combination (0, 7) on iteration 121 has 1 clusters, Skipping\n",
      "Combination (0, 8) on iteration 122 has 1 clusters, Skipping\n",
      "Combination (0, 9) on iteration 123 has 1 clusters, Skipping\n",
      "Combination (0, 10) on iteration 124 has 1 clusters, Skipping\n",
      "Combination (0, 11) on iteration 125 has 1 clusters, Skipping\n",
      "Combination (0, 12) on iteration 126 has 1 clusters, Skipping\n",
      "Combination (0, 13) on iteration 127 has 1 clusters, Skipping\n",
      "Combination (0, 14) on iteration 128 has 1 clusters, Skipping\n",
      "Combination (0, 15) on iteration 129 has 1 clusters, Skipping\n",
      "Combination (0, 16) on iteration 130 has 1 clusters, Skipping\n",
      "Combination (0, 17) on iteration 131 has 1 clusters, Skipping\n",
      "Combination (0, 18) on iteration 132 has 1 clusters, Skipping\n",
      "Combination (0, 19) on iteration 133 has 1 clusters, Skipping\n",
      "Combination (0, 1) on iteration 134 has 1 clusters, Skipping\n",
      "Combination (0, 2) on iteration 135 has 1 clusters, Skipping\n",
      "Combination (0, 3) on iteration 136 has 1 clusters, Skipping\n",
      "Combination (0, 4) on iteration 137 has 1 clusters, Skipping\n",
      "Combination (0, 5) on iteration 138 has 1 clusters, Skipping\n",
      "Combination (0, 6) on iteration 139 has 1 clusters, Skipping\n",
      "Combination (0, 7) on iteration 140 has 1 clusters, Skipping\n",
      "Combination (0, 8) on iteration 141 has 1 clusters, Skipping\n",
      "Combination (0, 9) on iteration 142 has 1 clusters, Skipping\n",
      "Combination (0, 10) on iteration 143 has 1 clusters, Skipping\n",
      "Combination (0, 11) on iteration 144 has 1 clusters, Skipping\n",
      "Combination (0, 12) on iteration 145 has 1 clusters, Skipping\n",
      "Combination (0, 13) on iteration 146 has 1 clusters, Skipping\n",
      "Combination (0, 14) on iteration 147 has 1 clusters, Skipping\n",
      "Combination (0, 15) on iteration 148 has 1 clusters, Skipping\n",
      "Combination (0, 16) on iteration 149 has 1 clusters, Skipping\n",
      "Combination (0, 17) on iteration 150 has 1 clusters, Skipping\n",
      "Combination (0, 18) on iteration 151 has 1 clusters, Skipping\n",
      "Combination (0, 19) on iteration 152 has 1 clusters, Skipping\n",
      "Combination (0, 1) on iteration 153 has 1 clusters, Skipping\n",
      "Combination (0, 2) on iteration 154 has 1 clusters, Skipping\n",
      "Combination (0, 3) on iteration 155 has 1 clusters, Skipping\n",
      "Combination (0, 4) on iteration 156 has 1 clusters, Skipping\n",
      "Combination (0, 5) on iteration 157 has 1 clusters, Skipping\n",
      "Combination (0, 6) on iteration 158 has 1 clusters, Skipping\n",
      "Combination (0, 7) on iteration 159 has 1 clusters, Skipping\n",
      "Combination (0, 8) on iteration 160 has 1 clusters, Skipping\n",
      "Combination (0, 9) on iteration 161 has 1 clusters, Skipping\n",
      "Combination (0, 10) on iteration 162 has 1 clusters, Skipping\n",
      "Combination (0, 11) on iteration 163 has 1 clusters, Skipping\n",
      "Combination (0, 12) on iteration 164 has 1 clusters, Skipping\n",
      "Combination (0, 13) on iteration 165 has 1 clusters, Skipping\n",
      "Combination (0, 14) on iteration 166 has 1 clusters, Skipping\n",
      "Combination (0, 15) on iteration 167 has 1 clusters, Skipping\n",
      "Combination (0, 16) on iteration 168 has 1 clusters, Skipping\n",
      "Combination (0, 17) on iteration 169 has 1 clusters, Skipping\n",
      "Combination (0, 18) on iteration 170 has 1 clusters, Skipping\n",
      "Combination (0, 19) on iteration 171 has 1 clusters, Skipping\n",
      "Combination (1, 1) on iteration 172 has 1 clusters, Skipping\n",
      "Combination (1, 2) on iteration 173 has 1 clusters, Skipping\n",
      "Combination (1, 3) on iteration 174 has 1 clusters, Skipping\n",
      "Combination (1, 4) on iteration 175 has 1 clusters, Skipping\n",
      "Combination (1, 5) on iteration 176 has 1 clusters, Skipping\n",
      "Combination (1, 6) on iteration 177 has 1 clusters, Skipping\n",
      "Combination (1, 7) on iteration 178 has 1 clusters, Skipping\n",
      "Combination (1, 8) on iteration 179 has 1 clusters, Skipping\n",
      "Combination (1, 9) on iteration 180 has 1 clusters, Skipping\n",
      "Combination (1, 10) on iteration 181 has 1 clusters, Skipping\n",
      "Combination (1, 11) on iteration 182 has 1 clusters, Skipping\n",
      "Combination (1, 12) on iteration 183 has 1 clusters, Skipping\n",
      "Combination (1, 13) on iteration 184 has 1 clusters, Skipping\n",
      "Combination (1, 14) on iteration 185 has 1 clusters, Skipping\n",
      "Combination (1, 15) on iteration 186 has 1 clusters, Skipping\n",
      "Combination (1, 16) on iteration 187 has 1 clusters, Skipping\n",
      "Combination (1, 17) on iteration 188 has 1 clusters, Skipping\n",
      "Combination (1, 18) on iteration 189 has 1 clusters, Skipping\n",
      "Combination (1, 19) on iteration 190 has 1 clusters, Skipping\n"
     ]
    }
   ],
   "execution_count": 27
  },
  {
   "metadata": {
    "ExecuteTime": {
     "end_time": "2025-08-06T12:21:26.548888Z",
     "start_time": "2025-08-06T12:21:26.540286Z"
    }
   },
   "cell_type": "code",
   "source": "best_dict",
   "id": "8601dbf9f4ebfcf4",
   "outputs": [
    {
     "data": {
      "text/plain": [
       "{'best_eps': 0.34,\n",
       " 'best_min_samples': 3,\n",
       " 'best_score': 0.4710956057910501,\n",
       " 'best_label': array([ 0,  1,  2,  1,  0,  1,  2,  3,  2,  1,  2,  3,  2,  1,  2,  1,  0,\n",
       "         1,  0,  3,  0,  1,  2,  1,  2,  1,  0,  1,  0,  1,  2,  1,  2,  1,\n",
       "         2,  1,  2,  1,  4,  1,  4,  1,  4,  4,  4,  4,  4,  4,  4,  4,  4,\n",
       "         4,  4,  4,  4,  4,  4,  4,  4,  4,  4,  4,  4,  4,  4,  4,  4,  4,\n",
       "         4,  4,  4,  4,  4,  4,  4,  4,  4,  4,  4,  4,  4,  4,  4,  4,  4,\n",
       "         4,  4,  4,  4,  4,  4,  4,  4,  4,  4,  4,  4,  4,  4,  4,  4,  4,\n",
       "         4,  4,  4,  4,  4,  4,  4,  4,  4,  4,  4,  4,  4,  4,  4,  4,  4,\n",
       "         4,  4,  4,  4,  5,  4,  5,  4,  5,  6,  5,  6,  5,  4,  5,  6,  5,\n",
       "         6,  5,  6,  5,  6,  5,  4,  5,  6,  5,  4,  5,  6,  5,  6,  5,  6,\n",
       "         5,  6,  5,  6,  5,  6,  5,  4,  5,  6,  5,  6,  5,  6,  5,  6,  5,\n",
       "         6,  5,  6,  5,  6,  5,  6,  5,  6,  5, -1,  5,  6,  5, -1, -1,  6,\n",
       "        -1,  6,  5,  6, -1, -1, -1, -1, -1, -1, -1, -1, -1])}"
      ]
     },
     "execution_count": 29,
     "metadata": {},
     "output_type": "execute_result"
    }
   ],
   "execution_count": 29
  },
  {
   "metadata": {
    "ExecuteTime": {
     "end_time": "2025-08-06T12:20:42.536997Z",
     "start_time": "2025-08-06T12:20:42.296087Z"
    }
   },
   "cell_type": "code",
   "source": [
    "plt.scatter(data[data.DBSCAN_Cluster == -1][\"Income(k$)\"],\n",
    "            data[data.DBSCAN_Cluster == -1][\"Spending Score\"],\n",
    "            color=\"black\", label=\"Outliers\")\n",
    "\n",
    "plt.scatter(data[data.DBSCAN_Cluster == 0][\"Income(k$)\"],\n",
    "            data[data.DBSCAN_Cluster == 0][\"Spending Score\"],\n",
    "            color=\"red\", label=\"Cluster 0\")\n",
    "\n",
    "plt.scatter(data[data.DBSCAN_Cluster == 1][\"Income(k$)\"],\n",
    "            data[data.DBSCAN_Cluster == 1][\"Spending Score\"],\n",
    "            color=\"blue\", label=\"Cluster 1\")\n",
    "\n",
    "plt.scatter(data[data.DBSCAN_Cluster == 2][\"Income(k$)\"],\n",
    "            data[data.DBSCAN_Cluster == 2][\"Spending Score\"],\n",
    "            color=\"green\", label=\"Cluster 2\")\n",
    "\n",
    "plt.scatter(data[data.DBSCAN_Cluster == 3][\"Income(k$)\"],\n",
    "            data[data.DBSCAN_Cluster== 3][\"Spending Score\"],\n",
    "            color=\"purple\", label=\"Cluster 3\")\n",
    "\n",
    "plt.scatter(data[data.DBSCAN_Cluster == 4][\"Income(k$)\"],\n",
    "            data[data.DBSCAN_Cluster == 4][\"Spending Score\"],\n",
    "            color=\"orange\", label=\"Cluster 4\")\n",
    "\n",
    "plt.scatter(data[data.DBSCAN_Cluster == 5][\"Income(k$)\"],\n",
    "            data[data.DBSCAN_Cluster == 5][\"Spending Score\"],\n",
    "            color=\"brown\", label=\"Cluster 5\")\n",
    "\n",
    "plt.scatter(data[data.DBSCAN_Cluster == 6][\"Income(k$)\"],\n",
    "            data[data.DBSCAN_Cluster == 6][\"Spending Score\"],\n",
    "            color=\"cyan\", label=\"Cluster 6\")\n",
    "\n",
    "plt.xlabel(\"Income (k$)\")\n",
    "plt.ylabel(\"Spending Score\")\n",
    "plt.legend()\n",
    "plt.title(\"Customer Segmentation Using DBSCAN\")\n",
    "plt.show()\n"
   ],
   "id": "81cbfd6eef67c071",
   "outputs": [
    {
     "data": {
      "text/plain": [
       "<Figure size 640x480 with 1 Axes>"
      ],
      "image/png": "[encoded data removed]"
     },
     "metadata": {},
     "output_type": "display_data"
    }
   ],
   "execution_count": 28
  }
 ],
 "metadata": {
  "kernelspec": {
   "display_name": "Python 3",
   "language": "python",
   "name": "python3"
  },
  "language_info": {
   "codemirror_mode": {
    "name": "ipython",
    "version": 2
   },
   "file_extension": ".py",
   "mimetype": "text/x-python",
   "name": "python",
   "nbconvert_exporter": "python",
   "pygments_lexer": "ipython2",
   "version": "2.7.6"
  }
 },
 "nbformat": 4,
 "nbformat_minor": 5
}
