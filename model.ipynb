{
 "cells": [
  {
   "cell_type": "code",
   "id": "initial_id",
   "metadata": {
    "collapsed": true,
    "ExecuteTime": {
     "end_time": "2025-08-05T16:14:32.966202Z",
     "start_time": "2025-08-05T16:14:30.900141Z"
    }
   },
   "source": [
    "import pandas as pd\n",
    "from sklearn.cluster import KMeans\n",
    "import matplotlib.pyplot as plt\n",
    "from sklearn.preprocessing import StandardScaler"
   ],
   "outputs": [],
   "execution_count": 2
  },
  {
   "metadata": {
    "ExecuteTime": {
     "end_time": "2025-08-05T16:14:33.661504Z",
     "start_time": "2025-08-05T16:14:33.642685Z"
    }
   },
   "cell_type": "code",
   "source": [
    "data = pd.read_csv('Mall_Customers.csv')\n",
    "data.dropna(inplace=True)\n",
    "data.head()"
   ],
   "id": "86211cc5717604a8",
   "outputs": [
    {
     "data": {
      "text/plain": [
       "   CustomerID   Genre  Age  Income(k$)  Spending Score\n",
       "0           1    Male   19          15              39\n",
       "1           2    Male   21          15              81\n",
       "2           3  Female   20          16               6\n",
       "3           4  Female   23          16              77\n",
       "4           5  Female   31          17              40"
      ],
      "text/html": [
       "<div>\n",
       "<style scoped>\n",
       "    .dataframe tbody tr th:only-of-type {\n",
       "        vertical-align: middle;\n",
       "    }\n",
       "\n",
       "    .dataframe tbody tr th {\n",
       "        vertical-align: top;\n",
       "    }\n",
       "\n",
       "    .dataframe thead th {\n",
       "        text-align: right;\n",
       "    }\n",
       "</style>\n",
       "<table border=\"1\" class=\"dataframe\">\n",
       "  <thead>\n",
       "    <tr style=\"text-align: right;\">\n",
       "      <th></th>\n",
       "      <th>CustomerID</th>\n",
       "      <th>Genre</th>\n",
       "      <th>Age</th>\n",
       "      <th>Income(k$)</th>\n",
       "      <th>Spending Score</th>\n",
       "    </tr>\n",
       "  </thead>\n",
       "  <tbody>\n",
       "    <tr>\n",
       "      <th>0</th>\n",
       "      <td>1</td>\n",
       "      <td>Male</td>\n",
       "      <td>19</td>\n",
       "      <td>15</td>\n",
       "      <td>39</td>\n",
       "    </tr>\n",
       "    <tr>\n",
       "      <th>1</th>\n",
       "      <td>2</td>\n",
       "      <td>Male</td>\n",
       "      <td>21</td>\n",
       "      <td>15</td>\n",
       "      <td>81</td>\n",
       "    </tr>\n",
       "    <tr>\n",
       "      <th>2</th>\n",
       "      <td>3</td>\n",
       "      <td>Female</td>\n",
       "      <td>20</td>\n",
       "      <td>16</td>\n",
       "      <td>6</td>\n",
       "    </tr>\n",
       "    <tr>\n",
       "      <th>3</th>\n",
       "      <td>4</td>\n",
       "      <td>Female</td>\n",
       "      <td>23</td>\n",
       "      <td>16</td>\n",
       "      <td>77</td>\n",
       "    </tr>\n",
       "    <tr>\n",
       "      <th>4</th>\n",
       "      <td>5</td>\n",
       "      <td>Female</td>\n",
       "      <td>31</td>\n",
       "      <td>17</td>\n",
       "      <td>40</td>\n",
       "    </tr>\n",
       "  </tbody>\n",
       "</table>\n",
       "</div>"
      ]
     },
     "execution_count": 3,
     "metadata": {},
     "output_type": "execute_result"
    }
   ],
   "execution_count": 3
  },
  {
   "metadata": {
    "ExecuteTime": {
     "end_time": "2025-08-05T16:14:35.854535Z",
     "start_time": "2025-08-05T16:14:35.727563Z"
    }
   },
   "cell_type": "code",
   "source": "plt.scatter(data[\"Income(k$)\"], data[\"Spending Score\"])",
   "id": "9e37ba74dddf4772",
   "outputs": [
    {
     "data": {
      "text/plain": [
       "<matplotlib.collections.PathCollection at 0x13716ee0bc0>"
      ]
     },
     "execution_count": 4,
     "metadata": {},
     "output_type": "execute_result"
    },
    {
     "data": {
      "text/plain": [
       "<Figure size 640x480 with 1 Axes>"
      ],
      "image/png": "[encoded data removed]"
     },
     "metadata": {},
     "output_type": "display_data"
    }
   ],
   "execution_count": 4
  },
  {
   "metadata": {
    "ExecuteTime": {
     "end_time": "2025-08-05T16:14:41.196919Z",
     "start_time": "2025-08-05T16:14:41.170305Z"
    }
   },
   "cell_type": "code",
   "source": [
    "scaler = StandardScaler()\n",
    "data[\"Scaled Income\"] = scaler.fit_transform(data[[\"Income(k$)\"]])\n",
    "data[\"Scaled Spending Score\"] = scaler.fit_transform(data[[\"Spending Score\"]])\n",
    "data.head()"
   ],
   "id": "1bc52d2d8f09ee4e",
   "outputs": [
    {
     "data": {
      "text/plain": [
       "   CustomerID   Genre  Age  Income(k$)  Spending Score  Scaled Income  \\\n",
       "0           1    Male   19          15              39      -1.738999   \n",
       "1           2    Male   21          15              81      -1.738999   \n",
       "2           3  Female   20          16               6      -1.700830   \n",
       "3           4  Female   23          16              77      -1.700830   \n",
       "4           5  Female   31          17              40      -1.662660   \n",
       "\n",
       "   Scaled Spending Score  \n",
       "0              -0.434801  \n",
       "1               1.195704  \n",
       "2              -1.715913  \n",
       "3               1.040418  \n",
       "4              -0.395980  "
      ],
      "text/html": [
       "<div>\n",
       "<style scoped>\n",
       "    .dataframe tbody tr th:only-of-type {\n",
       "        vertical-align: middle;\n",
       "    }\n",
       "\n",
       "    .dataframe tbody tr th {\n",
       "        vertical-align: top;\n",
       "    }\n",
       "\n",
       "    .dataframe thead th {\n",
       "        text-align: right;\n",
       "    }\n",
       "</style>\n",
       "<table border=\"1\" class=\"dataframe\">\n",
       "  <thead>\n",
       "    <tr style=\"text-align: right;\">\n",
       "      <th></th>\n",
       "      <th>CustomerID</th>\n",
       "      <th>Genre</th>\n",
       "      <th>Age</th>\n",
       "      <th>Income(k$)</th>\n",
       "      <th>Spending Score</th>\n",
       "      <th>Scaled Income</th>\n",
       "      <th>Scaled Spending Score</th>\n",
       "    </tr>\n",
       "  </thead>\n",
       "  <tbody>\n",
       "    <tr>\n",
       "      <th>0</th>\n",
       "      <td>1</td>\n",
       "      <td>Male</td>\n",
       "      <td>19</td>\n",
       "      <td>15</td>\n",
       "      <td>39</td>\n",
       "      <td>-1.738999</td>\n",
       "      <td>-0.434801</td>\n",
       "    </tr>\n",
       "    <tr>\n",
       "      <th>1</th>\n",
       "      <td>2</td>\n",
       "      <td>Male</td>\n",
       "      <td>21</td>\n",
       "      <td>15</td>\n",
       "      <td>81</td>\n",
       "      <td>-1.738999</td>\n",
       "      <td>1.195704</td>\n",
       "    </tr>\n",
       "    <tr>\n",
       "      <th>2</th>\n",
       "      <td>3</td>\n",
       "      <td>Female</td>\n",
       "      <td>20</td>\n",
       "      <td>16</td>\n",
       "      <td>6</td>\n",
       "      <td>-1.700830</td>\n",
       "      <td>-1.715913</td>\n",
       "    </tr>\n",
       "    <tr>\n",
       "      <th>3</th>\n",
       "      <td>4</td>\n",
       "      <td>Female</td>\n",
       "      <td>23</td>\n",
       "      <td>16</td>\n",
       "      <td>77</td>\n",
       "      <td>-1.700830</td>\n",
       "      <td>1.040418</td>\n",
       "    </tr>\n",
       "    <tr>\n",
       "      <th>4</th>\n",
       "      <td>5</td>\n",
       "      <td>Female</td>\n",
       "      <td>31</td>\n",
       "      <td>17</td>\n",
       "      <td>40</td>\n",
       "      <td>-1.662660</td>\n",
       "      <td>-0.395980</td>\n",
       "    </tr>\n",
       "  </tbody>\n",
       "</table>\n",
       "</div>"
      ]
     },
     "execution_count": 5,
     "metadata": {},
     "output_type": "execute_result"
    }
   ],
   "execution_count": 5
  },
  {
   "metadata": {
    "ExecuteTime": {
     "end_time": "2025-08-05T16:14:48.066922Z",
     "start_time": "2025-08-05T16:14:46.343516Z"
    }
   },
   "cell_type": "code",
   "source": [
    "k = range(1,10)\n",
    "sse = []\n",
    "for i in range(1,10):\n",
    "    kmeans = KMeans(n_clusters=i, random_state=1)\n",
    "    kmeans.fit(data[[\"Scaled Income\", \"Scaled Spending Score\"]])\n",
    "    sse.append(kmeans.inertia_)"
   ],
   "id": "b38d3f18d79ba1af",
   "outputs": [],
   "execution_count": 6
  },
  {
   "metadata": {
    "ExecuteTime": {
     "end_time": "2025-08-05T16:14:49.177891Z",
     "start_time": "2025-08-05T16:14:49.084444Z"
    }
   },
   "cell_type": "code",
   "source": [
    "plt.plot(k, sse)\n",
    "plt.xlabel(\"Number of Clusters\")\n",
    "plt.ylabel(\"SSE\")\n",
    "plt.show()"
   ],
   "id": "761891b18fba01e9",
   "outputs": [
    {
     "data": {
      "text/plain": [
       "<Figure size 640x480 with 1 Axes>"
      ],
      "image/png": "[encoded data removed]"
     },
     "metadata": {},
     "output_type": "display_data"
    }
   ],
   "execution_count": 7
  },
  {
   "metadata": {
    "ExecuteTime": {
     "end_time": "2025-08-05T16:14:51.246236Z",
     "start_time": "2025-08-05T16:14:51.227993Z"
    }
   },
   "cell_type": "code",
   "source": [
    "k=5 #elbow method\n",
    "kmeans = KMeans(n_clusters=k, random_state=1)\n",
    "kmeans.fit(data[[\"Scaled Income\", \"Scaled Spending Score\"]])\n",
    "predicted = kmeans.predict(data[[\"Scaled Income\", \"Scaled Spending Score\"]])"
   ],
   "id": "c08ba1193448afee",
   "outputs": [],
   "execution_count": 8
  },
  {
   "metadata": {
    "ExecuteTime": {
     "end_time": "2025-08-05T16:15:02.689560Z",
     "start_time": "2025-08-05T16:15:02.675305Z"
    }
   },
   "cell_type": "code",
   "source": [
    "data[\"Cluster\"] = predicted\n",
    "data.head()"
   ],
   "id": "5da9dac49584a721",
   "outputs": [
    {
     "data": {
      "text/plain": [
       "   CustomerID   Genre  Age  Income(k$)  Spending Score  Scaled Income  \\\n",
       "0           1    Male   19          15              39      -1.738999   \n",
       "1           2    Male   21          15              81      -1.738999   \n",
       "2           3  Female   20          16               6      -1.700830   \n",
       "3           4  Female   23          16              77      -1.700830   \n",
       "4           5  Female   31          17              40      -1.662660   \n",
       "\n",
       "   Scaled Spending Score  Cluster  \n",
       "0              -0.434801        4  \n",
       "1               1.195704        2  \n",
       "2              -1.715913        4  \n",
       "3               1.040418        2  \n",
       "4              -0.395980        4  "
      ],
      "text/html": [
       "<div>\n",
       "<style scoped>\n",
       "    .dataframe tbody tr th:only-of-type {\n",
       "        vertical-align: middle;\n",
       "    }\n",
       "\n",
       "    .dataframe tbody tr th {\n",
       "        vertical-align: top;\n",
       "    }\n",
       "\n",
       "    .dataframe thead th {\n",
       "        text-align: right;\n",
       "    }\n",
       "</style>\n",
       "<table border=\"1\" class=\"dataframe\">\n",
       "  <thead>\n",
       "    <tr style=\"text-align: right;\">\n",
       "      <th></th>\n",
       "      <th>CustomerID</th>\n",
       "      <th>Genre</th>\n",
       "      <th>Age</th>\n",
       "      <th>Income(k$)</th>\n",
       "      <th>Spending Score</th>\n",
       "      <th>Scaled Income</th>\n",
       "      <th>Scaled Spending Score</th>\n",
       "      <th>Cluster</th>\n",
       "    </tr>\n",
       "  </thead>\n",
       "  <tbody>\n",
       "    <tr>\n",
       "      <th>0</th>\n",
       "      <td>1</td>\n",
       "      <td>Male</td>\n",
       "      <td>19</td>\n",
       "      <td>15</td>\n",
       "      <td>39</td>\n",
       "      <td>-1.738999</td>\n",
       "      <td>-0.434801</td>\n",
       "      <td>4</td>\n",
       "    </tr>\n",
       "    <tr>\n",
       "      <th>1</th>\n",
       "      <td>2</td>\n",
       "      <td>Male</td>\n",
       "      <td>21</td>\n",
       "      <td>15</td>\n",
       "      <td>81</td>\n",
       "      <td>-1.738999</td>\n",
       "      <td>1.195704</td>\n",
       "      <td>2</td>\n",
       "    </tr>\n",
       "    <tr>\n",
       "      <th>2</th>\n",
       "      <td>3</td>\n",
       "      <td>Female</td>\n",
       "      <td>20</td>\n",
       "      <td>16</td>\n",
       "      <td>6</td>\n",
       "      <td>-1.700830</td>\n",
       "      <td>-1.715913</td>\n",
       "      <td>4</td>\n",
       "    </tr>\n",
       "    <tr>\n",
       "      <th>3</th>\n",
       "      <td>4</td>\n",
       "      <td>Female</td>\n",
       "      <td>23</td>\n",
       "      <td>16</td>\n",
       "      <td>77</td>\n",
       "      <td>-1.700830</td>\n",
       "      <td>1.040418</td>\n",
       "      <td>2</td>\n",
       "    </tr>\n",
       "    <tr>\n",
       "      <th>4</th>\n",
       "      <td>5</td>\n",
       "      <td>Female</td>\n",
       "      <td>31</td>\n",
       "      <td>17</td>\n",
       "      <td>40</td>\n",
       "      <td>-1.662660</td>\n",
       "      <td>-0.395980</td>\n",
       "      <td>4</td>\n",
       "    </tr>\n",
       "  </tbody>\n",
       "</table>\n",
       "</div>"
      ]
     },
     "execution_count": 9,
     "metadata": {},
     "output_type": "execute_result"
    }
   ],
   "execution_count": 9
  },
  {
   "metadata": {
    "ExecuteTime": {
     "end_time": "2025-08-05T16:20:05.288820Z",
     "start_time": "2025-08-05T16:20:05.282833Z"
    }
   },
   "cell_type": "code",
   "source": "original_centers = scaler.inverse_transform(kmeans.cluster_centers_)",
   "id": "d03a0fad2368a382",
   "outputs": [],
   "execution_count": 17
  },
  {
   "metadata": {
    "ExecuteTime": {
     "end_time": "2025-08-05T16:20:42.225759Z",
     "start_time": "2025-08-05T16:20:42.033699Z"
    }
   },
   "cell_type": "code",
   "source": [
    "plt.scatter(data[data.Cluster == 0][\"Income(k$)\"], data[data.Cluster == 0][\"Spending Score\"], \n",
    "            color=\"green\", label=\"Cluster 0\")\n",
    "plt.scatter(data[data.Cluster == 1][\"Income(k$)\"], data[data.Cluster == 1][\"Spending Score\"], \n",
    "            color=\"blue\", label=\"Cluster 1\")\n",
    "plt.scatter(data[data.Cluster == 2][\"Income(k$)\"], data[data.Cluster == 2][\"Spending Score\"], \n",
    "            color=\"red\", label=\"Cluster 2\")\n",
    "plt.scatter(data[data.Cluster == 3][\"Income(k$)\"], data[data.Cluster == 3][\"Spending Score\"], \n",
    "            color=\"yellow\", label=\"Cluster 3\")\n",
    "plt.scatter(data[data.Cluster == 4][\"Income(k$)\"], data[data.Cluster == 4][\"Spending Score\"], \n",
    "            color=\"purple\", label=\"Cluster 4\")\n",
    "\n",
    "plt.scatter(original_centers[:,0], original_centers[:,1], color=\"black\", marker = \"*\", label=\"Centroids\")\n",
    "plt.xlabel(\"Income(k$)\")\n",
    "plt.ylabel(\"Spending Score\")\n",
    "plt.legend()\n",
    "plt.title(\"Customer Segmentation using K-Means\")\n",
    "plt.show()\n",
    "\n"
   ],
   "id": "b95f374f258c5fb8",
   "outputs": [
    {
     "data": {
      "text/plain": [
       "<Figure size 640x480 with 1 Axes>"
      ],
      "image/png": "[encoded data removed]"
     },
     "metadata": {},
     "output_type": "display_data"
    }
   ],
   "execution_count": 19
  }
 ],
 "metadata": {
  "kernelspec": {
   "display_name": "Python 3",
   "language": "python",
   "name": "python3"
  },
  "language_info": {
   "codemirror_mode": {
    "name": "ipython",
    "version": 2
   },
   "file_extension": ".py",
   "mimetype": "text/x-python",
   "name": "python",
   "nbconvert_exporter": "python",
   "pygments_lexer": "ipython2",
   "version": "2.7.6"
  }
 },
 "nbformat": 4,
 "nbformat_minor": 5
}
